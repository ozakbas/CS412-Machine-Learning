{
  "nbformat": 4,
  "nbformat_minor": 0,
  "metadata": {
    "colab": {
      "name": "ML_HW1.ipynb",
      "provenance": [],
      "collapsed_sections": [],
      "toc_visible": true,
      "include_colab_link": true
    },
    "kernelspec": {
      "name": "python3",
      "display_name": "Python 3"
    }
  },
  "cells": [
    {
      "cell_type": "markdown",
      "metadata": {
        "id": "view-in-github",
        "colab_type": "text"
      },
      "source": [
        "<a href=\"https://colab.research.google.com/github/ozakbas/CS412-Machine-Learning/blob/main/HW/ML_HW1.ipynb\" target=\"_parent\"><img src=\"https://colab.research.google.com/assets/colab-badge.svg\" alt=\"Open In Colab\"/></a>"
      ]
    },
    {
      "cell_type": "markdown",
      "metadata": {
        "id": "zrzkxpZrCF6D"
      },
      "source": [
        "# CS 412 Machine Learning 2020 \n",
        "\n",
        "# Assignment 1\n",
        "\n",
        "100 pts\n",
        "\n",
        "## Goal \n",
        "\n",
        "The goal of this assignment \n",
        "\n",
        "*  Introduction to the machine learning experimental set up\n",
        "*  Gain experience with the Scikit library\n",
        "*  Gain experience with Decision tree and k-NN models\n",
        "\n",
        "## Dataset\n",
        "\n",
        "**Wine Quality Dataset** is a collection red and white wines with 12 attributes. The target variable is the 'quality' either 0 or 1\n",
        "\n",
        "\n",
        "## Task\n",
        "Build a decision tree and k-NN classifiers with the scikit-learn library function calls to **classify** the quality of wine as good (1) and bad (0)\n",
        "\n",
        "## Submission\n",
        "\n",
        "Follow the instructions at the end."
      ]
    },
    {
      "cell_type": "markdown",
      "metadata": {
        "id": "18kyKgy9LiZx"
      },
      "source": [
        "# 1) Initialize\n",
        "\n",
        "First, make a copy of this notebook in your drive"
      ]
    },
    {
      "cell_type": "code",
      "metadata": {
        "id": "eTJUORO9CBNq",
        "colab": {
          "base_uri": "https://localhost:8080/"
        },
        "outputId": "1fc995d3-89e8-447e-f554-5cd539572db8"
      },
      "source": [
        "# Mount to your drive, in this way you can reach files that are in your drive\n",
        "# Run this cell\n",
        "\n",
        "from google.colab import drive\n",
        "drive.mount('/content/drive')"
      ],
      "execution_count": 1,
      "outputs": [
        {
          "output_type": "stream",
          "text": [
            "Mounted at /content/drive\n"
          ],
          "name": "stdout"
        }
      ]
    },
    {
      "cell_type": "markdown",
      "metadata": {
        "id": "FtputkpVLt8H"
      },
      "source": [
        "# 2) Load Dataset\n",
        "To start working for your homework, take a copy of the folder, given in the below link to your own google drive. You find the train and test data under this folder.\n",
        "\n",
        "https://drive.google.com/drive/folders/1PC6M332CTdW-OOrgJ-1GU1F3UaRupka8?usp=sharing\n",
        "\n",
        "After copy the folder, copy the path of the train and test dataset to paste them in the below cell to load your data."
      ]
    },
    {
      "cell_type": "code",
      "metadata": {
        "id": "gB1Fur5APIjQ"
      },
      "source": [
        "import pandas as pd\n",
        "import numpy as np\n",
        "\n",
        "train_df = pd.read_csv('/content/drive/My Drive/Recitation/winequality-train.csv')\n",
        "test_df = pd.read_csv('/content/drive/My Drive/Recitation/winequality-test.csv')"
      ],
      "execution_count": 2,
      "outputs": []
    },
    {
      "cell_type": "markdown",
      "metadata": {
        "id": "Rtcu1QMXMLBN"
      },
      "source": [
        "# 3) Understand the dataset\n",
        "\n",
        "You can use the fuctions that we saw in the recitations to understand the dataset"
      ]
    },
    {
      "cell_type": "code",
      "metadata": {
        "id": "KjQj6XQNMd68",
        "colab": {
          "base_uri": "https://localhost:8080/",
          "height": 246
        },
        "outputId": "6afb4a05-6d10-4edd-fd03-84b700386112"
      },
      "source": [
        "# print shape of the train and test sets\n",
        "print('Train shape: ', train_df.shape)\n",
        "print('Test shape: ', test_df.shape)\n",
        "\n",
        "# show random samples from the training data\n",
        "train_df.head()"
      ],
      "execution_count": 3,
      "outputs": [
        {
          "output_type": "stream",
          "text": [
            "Train shape:  (5198, 13)\n",
            "Test shape:  (1299, 13)\n"
          ],
          "name": "stdout"
        },
        {
          "output_type": "execute_result",
          "data": {
            "text/html": [
              "<div>\n",
              "<style scoped>\n",
              "    .dataframe tbody tr th:only-of-type {\n",
              "        vertical-align: middle;\n",
              "    }\n",
              "\n",
              "    .dataframe tbody tr th {\n",
              "        vertical-align: top;\n",
              "    }\n",
              "\n",
              "    .dataframe thead th {\n",
              "        text-align: right;\n",
              "    }\n",
              "</style>\n",
              "<table border=\"1\" class=\"dataframe\">\n",
              "  <thead>\n",
              "    <tr style=\"text-align: right;\">\n",
              "      <th></th>\n",
              "      <th>fixed acidity</th>\n",
              "      <th>volatile acidity</th>\n",
              "      <th>citric acid</th>\n",
              "      <th>residual sugar</th>\n",
              "      <th>chlorides</th>\n",
              "      <th>free sulfur dioxide</th>\n",
              "      <th>total sulfur dioxide</th>\n",
              "      <th>density</th>\n",
              "      <th>pH</th>\n",
              "      <th>sulphates</th>\n",
              "      <th>alcohol</th>\n",
              "      <th>wine type</th>\n",
              "      <th>quality</th>\n",
              "    </tr>\n",
              "  </thead>\n",
              "  <tbody>\n",
              "    <tr>\n",
              "      <th>0</th>\n",
              "      <td>6.1</td>\n",
              "      <td>0.32</td>\n",
              "      <td>0.24</td>\n",
              "      <td>1.5</td>\n",
              "      <td>0.036</td>\n",
              "      <td>38.0</td>\n",
              "      <td>124.0</td>\n",
              "      <td>0.98980</td>\n",
              "      <td>3.29</td>\n",
              "      <td>0.42</td>\n",
              "      <td>12.4</td>\n",
              "      <td>0</td>\n",
              "      <td>1</td>\n",
              "    </tr>\n",
              "    <tr>\n",
              "      <th>1</th>\n",
              "      <td>8.8</td>\n",
              "      <td>0.20</td>\n",
              "      <td>0.28</td>\n",
              "      <td>1.1</td>\n",
              "      <td>0.018</td>\n",
              "      <td>18.0</td>\n",
              "      <td>72.0</td>\n",
              "      <td>0.99260</td>\n",
              "      <td>2.97</td>\n",
              "      <td>0.35</td>\n",
              "      <td>10.4</td>\n",
              "      <td>0</td>\n",
              "      <td>0</td>\n",
              "    </tr>\n",
              "    <tr>\n",
              "      <th>2</th>\n",
              "      <td>6.1</td>\n",
              "      <td>0.21</td>\n",
              "      <td>0.30</td>\n",
              "      <td>6.3</td>\n",
              "      <td>0.039</td>\n",
              "      <td>47.0</td>\n",
              "      <td>136.0</td>\n",
              "      <td>0.99068</td>\n",
              "      <td>3.27</td>\n",
              "      <td>0.31</td>\n",
              "      <td>12.7</td>\n",
              "      <td>0</td>\n",
              "      <td>0</td>\n",
              "    </tr>\n",
              "    <tr>\n",
              "      <th>3</th>\n",
              "      <td>8.8</td>\n",
              "      <td>0.17</td>\n",
              "      <td>0.38</td>\n",
              "      <td>1.8</td>\n",
              "      <td>0.040</td>\n",
              "      <td>39.0</td>\n",
              "      <td>148.0</td>\n",
              "      <td>0.99420</td>\n",
              "      <td>3.16</td>\n",
              "      <td>0.67</td>\n",
              "      <td>10.2</td>\n",
              "      <td>0</td>\n",
              "      <td>0</td>\n",
              "    </tr>\n",
              "    <tr>\n",
              "      <th>4</th>\n",
              "      <td>11.5</td>\n",
              "      <td>0.42</td>\n",
              "      <td>0.48</td>\n",
              "      <td>2.6</td>\n",
              "      <td>0.077</td>\n",
              "      <td>8.0</td>\n",
              "      <td>20.0</td>\n",
              "      <td>0.99852</td>\n",
              "      <td>3.09</td>\n",
              "      <td>0.53</td>\n",
              "      <td>11.0</td>\n",
              "      <td>1</td>\n",
              "      <td>0</td>\n",
              "    </tr>\n",
              "  </tbody>\n",
              "</table>\n",
              "</div>"
            ],
            "text/plain": [
              "   fixed acidity  volatile acidity  citric acid  ...  alcohol  wine type  quality\n",
              "0            6.1              0.32         0.24  ...     12.4          0        1\n",
              "1            8.8              0.20         0.28  ...     10.4          0        0\n",
              "2            6.1              0.21         0.30  ...     12.7          0        0\n",
              "3            8.8              0.17         0.38  ...     10.2          0        0\n",
              "4           11.5              0.42         0.48  ...     11.0          1        0\n",
              "\n",
              "[5 rows x 13 columns]"
            ]
          },
          "metadata": {
            "tags": []
          },
          "execution_count": 3
        }
      ]
    },
    {
      "cell_type": "code",
      "metadata": {
        "id": "5B93dybOMqBF",
        "colab": {
          "base_uri": "https://localhost:8080/"
        },
        "outputId": "aa5a6b41-4271-45f3-c23c-619448468b9d"
      },
      "source": [
        "# print information about the datasets (Is there any missing value? or Categorical feature?)\n",
        "print(train_df.info())\n",
        "print(train_df.isnull().any())"
      ],
      "execution_count": 4,
      "outputs": [
        {
          "output_type": "stream",
          "text": [
            "<class 'pandas.core.frame.DataFrame'>\n",
            "RangeIndex: 5198 entries, 0 to 5197\n",
            "Data columns (total 13 columns):\n",
            " #   Column                Non-Null Count  Dtype  \n",
            "---  ------                --------------  -----  \n",
            " 0   fixed acidity         5198 non-null   float64\n",
            " 1   volatile acidity      5198 non-null   float64\n",
            " 2   citric acid           5198 non-null   float64\n",
            " 3   residual sugar        5198 non-null   float64\n",
            " 4   chlorides             5198 non-null   float64\n",
            " 5   free sulfur dioxide   5198 non-null   float64\n",
            " 6   total sulfur dioxide  5198 non-null   float64\n",
            " 7   density               5198 non-null   float64\n",
            " 8   pH                    5198 non-null   float64\n",
            " 9   sulphates             5198 non-null   float64\n",
            " 10  alcohol               5198 non-null   float64\n",
            " 11  wine type             5198 non-null   int64  \n",
            " 12  quality               5198 non-null   int64  \n",
            "dtypes: float64(11), int64(2)\n",
            "memory usage: 528.0 KB\n",
            "None\n",
            "fixed acidity           False\n",
            "volatile acidity        False\n",
            "citric acid             False\n",
            "residual sugar          False\n",
            "chlorides               False\n",
            "free sulfur dioxide     False\n",
            "total sulfur dioxide    False\n",
            "density                 False\n",
            "pH                      False\n",
            "sulphates               False\n",
            "alcohol                 False\n",
            "wine type               False\n",
            "quality                 False\n",
            "dtype: bool\n"
          ],
          "name": "stdout"
        }
      ]
    },
    {
      "cell_type": "markdown",
      "metadata": {
        "id": "PAFQHAq8Mno1"
      },
      "source": [
        "# 4) Define train and test labels"
      ]
    },
    {
      "cell_type": "code",
      "metadata": {
        "id": "JjW1ZNhONNCb"
      },
      "source": [
        "# make sure you remove the labels from datasets\n",
        "\n",
        "train_labels = train_df.pop('quality')\n",
        "test_labels = test_df.pop('quality')"
      ],
      "execution_count": 5,
      "outputs": []
    },
    {
      "cell_type": "markdown",
      "metadata": {
        "id": "4fn3N4V_OlL_"
      },
      "source": [
        "# 5) FineTune Decision Tree hyper-parameters\n",
        "\n",
        "1-Splitting dataset into train and validation"
      ]
    },
    {
      "cell_type": "code",
      "metadata": {
        "id": "hJlxVMTnYTTg"
      },
      "source": [
        "# Split training data to 70% training and 30% validation, do not forget to use the random_state parameter\n",
        "from sklearn.model_selection import train_test_split\n",
        "x_train, x_val, y_train, y_val = train_test_split(train_df, train_labels, test_size=0.3, random_state=12)"
      ],
      "execution_count": 6,
      "outputs": []
    },
    {
      "cell_type": "markdown",
      "metadata": {
        "id": "NNm9SC9JYXN2"
      },
      "source": [
        "2- FineTune minimum sample split"
      ]
    },
    {
      "cell_type": "code",
      "metadata": {
        "id": "UfTLLotIO3WX",
        "colab": {
          "base_uri": "https://localhost:8080/"
        },
        "outputId": "4823e99b-db76-4810-b014-38549dedefbb"
      },
      "source": [
        "from sklearn.tree import DecisionTreeClassifier\n",
        "\n",
        "min_samples_splits = range(2, 50)\n",
        "\n",
        "train_results = []\n",
        "val_results = []\n",
        "for min_samples_split in min_samples_splits:\n",
        "\n",
        "  # Fit the tree using the 70% portion of the training data\n",
        "  clf = DecisionTreeClassifier(min_samples_split=min_samples_split, random_state=2021)\n",
        "  clf.fit(x_train, y_train)\n",
        "  \n",
        "  # Evaluate on Training set\n",
        "  train_acc = clf.score(x_train, y_train)\n",
        "  train_results.append(train_acc)\n",
        "   \n",
        "  # Evaluate on Validation set\n",
        "  val_acc = clf.score(x_val, y_val)\n",
        "  val_results.append(val_acc)\n",
        "\n",
        "  print(\"min_sample_splits: {} train: {} val: {}\".format(min_samples_split, train_acc, val_acc))"
      ],
      "execution_count": 7,
      "outputs": [
        {
          "output_type": "stream",
          "text": [
            "min_sample_splits: 2 train: 1.0 val: 0.8128205128205128\n",
            "min_sample_splits: 3 train: 0.9939527212754261 val: 0.8173076923076923\n",
            "min_sample_splits: 4 train: 0.9873556899395272 val: 0.8173076923076923\n",
            "min_sample_splits: 5 train: 0.9813084112149533 val: 0.8243589743589743\n",
            "min_sample_splits: 6 train: 0.9752611324903794 val: 0.8179487179487179\n",
            "min_sample_splits: 7 train: 0.9681143485431556 val: 0.8217948717948718\n",
            "min_sample_splits: 8 train: 0.9615173172072567 val: 0.823076923076923\n",
            "min_sample_splits: 9 train: 0.9565695437053326 val: 0.8153846153846154\n",
            "min_sample_splits: 10 train: 0.951346893897746 val: 0.8153846153846154\n",
            "min_sample_splits: 11 train: 0.945849367784497 val: 0.8147435897435897\n",
            "min_sample_splits: 12 train: 0.9414513468938978 val: 0.8032051282051282\n",
            "min_sample_splits: 13 train: 0.9384277075316108 val: 0.8102564102564103\n",
            "min_sample_splits: 14 train: 0.934304562946674 val: 0.808974358974359\n",
            "min_sample_splits: 15 train: 0.9315557998900494 val: 0.8153846153846154\n",
            "min_sample_splits: 16 train: 0.9307311709730621 val: 0.8121794871794872\n",
            "min_sample_splits: 17 train: 0.9312809235843871 val: 0.808974358974359\n",
            "min_sample_splits: 18 train: 0.9268829026937878 val: 0.8153846153846154\n",
            "min_sample_splits: 19 train: 0.9255085211654756 val: 0.8134615384615385\n",
            "min_sample_splits: 20 train: 0.922759758108851 val: 0.8153846153846154\n",
            "min_sample_splits: 21 train: 0.9205607476635514 val: 0.8166666666666667\n",
            "min_sample_splits: 22 train: 0.916712479384277 val: 0.8102564102564103\n",
            "min_sample_splits: 23 train: 0.9153380978559648 val: 0.8121794871794872\n",
            "min_sample_splits: 24 train: 0.9139637163276526 val: 0.8102564102564103\n",
            "min_sample_splits: 25 train: 0.9117647058823529 val: 0.8108974358974359\n",
            "min_sample_splits: 26 train: 0.9092908191313909 val: 0.8076923076923077\n",
            "min_sample_splits: 27 train: 0.9068169323804288 val: 0.8083333333333333\n",
            "min_sample_splits: 28 train: 0.9040681693238043 val: 0.808974358974359\n",
            "min_sample_splits: 29 train: 0.902693787795492 val: 0.8064102564102564\n",
            "min_sample_splits: 30 train: 0.8985706432105552 val: 0.8076923076923077\n",
            "min_sample_splits: 31 train: 0.8960967564595932 val: 0.8108974358974359\n",
            "min_sample_splits: 32 train: 0.8960967564595932 val: 0.8108974358974359\n",
            "min_sample_splits: 33 train: 0.8925233644859814 val: 0.8128205128205128\n",
            "min_sample_splits: 34 train: 0.8911489829576691 val: 0.8115384615384615\n",
            "min_sample_splits: 35 train: 0.8881253435953821 val: 0.8070512820512821\n",
            "min_sample_splits: 36 train: 0.8864760857614074 val: 0.8083333333333333\n",
            "min_sample_splits: 37 train: 0.8862012094557449 val: 0.8083333333333333\n",
            "min_sample_splits: 38 train: 0.88565145684442 val: 0.8083333333333333\n",
            "min_sample_splits: 39 train: 0.88565145684442 val: 0.8083333333333333\n",
            "min_sample_splits: 40 train: 0.8853765805387576 val: 0.8083333333333333\n",
            "min_sample_splits: 41 train: 0.8853765805387576 val: 0.8083333333333333\n",
            "min_sample_splits: 42 train: 0.8834524463991204 val: 0.8121794871794872\n",
            "min_sample_splits: 43 train: 0.882627817482133 val: 0.8108974358974359\n",
            "min_sample_splits: 44 train: 0.882627817482133 val: 0.8108974358974359\n",
            "min_sample_splits: 45 train: 0.882627817482133 val: 0.8108974358974359\n",
            "min_sample_splits: 46 train: 0.8820780648708081 val: 0.8115384615384615\n",
            "min_sample_splits: 47 train: 0.8820780648708081 val: 0.8115384615384615\n",
            "min_sample_splits: 48 train: 0.8809785596481583 val: 0.8173076923076923\n",
            "min_sample_splits: 49 train: 0.8793293018141837 val: 0.8147435897435897\n"
          ],
          "name": "stdout"
        }
      ]
    },
    {
      "cell_type": "code",
      "metadata": {
        "id": "_jqCo52hPjkk",
        "colab": {
          "base_uri": "https://localhost:8080/",
          "height": 265
        },
        "outputId": "81e5e5d5-2987-4932-cc82-d9cff34d9765"
      },
      "source": [
        "# Plot the results\n",
        "import matplotlib.pyplot as plt\n",
        "\n",
        "plt.plot(min_samples_splits, train_results, 'b')\n",
        "plt.plot(min_samples_splits, val_results,'r')\n",
        "plt.show()"
      ],
      "execution_count": 8,
      "outputs": [
        {
          "output_type": "display_data",
          "data": {
            "image/png": "[encoded data removed]",
            "text/plain": [
              "<Figure size 432x288 with 1 Axes>"
            ]
          },
          "metadata": {
            "tags": [],
            "needs_background": "light"
          }
        }
      ]
    },
    {
      "cell_type": "code",
      "metadata": {
        "id": "4EmN0hXcNmys",
        "colab": {
          "base_uri": "https://localhost:8080/"
        },
        "outputId": "d144ce19-1101-4c04-8f10-01728ac14fd0"
      },
      "source": [
        "min_samples_splits[np.argmax(val_results)]"
      ],
      "execution_count": 9,
      "outputs": [
        {
          "output_type": "execute_result",
          "data": {
            "text/plain": [
              "5"
            ]
          },
          "metadata": {
            "tags": []
          },
          "execution_count": 9
        }
      ]
    },
    {
      "cell_type": "code",
      "metadata": {
        "id": "UrZSntmRYtFL",
        "colab": {
          "base_uri": "https://localhost:8080/"
        },
        "outputId": "9d8d4a8c-15e1-45a6-e7cc-2b9464da0096"
      },
      "source": [
        "# Choose the best minimum split sample based on the plot\n",
        "Best_minSampl = min_samples_splits[np.argmax(val_results)]\n",
        "\n",
        "# Train decision tree using the full training data and the best minimum split sample\n",
        "best_tree = DecisionTreeClassifier(min_samples_split=Best_minSampl, random_state=2021)\n",
        "best_tree.fit(train_df, train_labels)\n",
        "\n",
        "# Estimate the prediction of the test data\n",
        "test_pred = best_tree.predict(test_df)\n",
        "\n",
        "from sklearn.metrics import accuracy_score\n",
        "# Calculate accuracy of test data\n",
        "TestAcc = accuracy_score(test_pred, test_labels)\n",
        "print(\"Testing Accuracy = %.4f%%\" % (TestAcc * 100))"
      ],
      "execution_count": 10,
      "outputs": [
        {
          "output_type": "stream",
          "text": [
            "Testing Accuracy = 82.6790%\n"
          ],
          "name": "stdout"
        }
      ]
    },
    {
      "cell_type": "markdown",
      "metadata": {
        "id": "a_GMi20MO3lr"
      },
      "source": [
        "# 6) Apply the same procedure but using k-NN instead of decision tree\n",
        "\n",
        "For finetuning, find the best value of K to use with this dataset."
      ]
    },
    {
      "cell_type": "code",
      "metadata": {
        "id": "SKZoNasEO9BT",
        "colab": {
          "base_uri": "https://localhost:8080/"
        },
        "outputId": "499a94f7-7238-40b8-d7f1-f6c198236c56"
      },
      "source": [
        "from sklearn.neighbors import KNeighborsClassifier\n",
        "from sklearn.model_selection import cross_val_score\n",
        "from statistics import mean\n",
        "\n",
        "# initialize the values of k to be a list of odd numbers between 1 and 30\n",
        "kVals = list(range(1, 30, 2))\n",
        "\n",
        "# Save the accuracies of each value of kVal in [accuracies] variable\n",
        "# hint: you can use accuracies.append(...) function inside the loop\n",
        "accuracies = []\n",
        "\n",
        "# loop over values of k for the k-Nearest Neighbor classifier\n",
        "for k in kVals:\n",
        "  # Follow what we did in decision tree part\n",
        "  clf = KNeighborsClassifier(n_neighbors=k)\n",
        "  scores = cross_val_score(clf, train_df, train_labels, cv=5)\n",
        "  accuracies.append(mean(scores))\n",
        "\n",
        "print(\"n_neighbors best:\", kVals[np.argmax(accuracies)])\n",
        "print(\"Best Validation Accuracy = %.4f%%\" % (np.max(accuracies)*100))"
      ],
      "execution_count": 11,
      "outputs": [
        {
          "output_type": "stream",
          "text": [
            "n_neighbors best: 1\n",
            "Best Validation Accuracy = 81.1854%\n"
          ],
          "name": "stdout"
        }
      ]
    },
    {
      "cell_type": "code",
      "metadata": {
        "id": "w1PtA576uw9t",
        "colab": {
          "base_uri": "https://localhost:8080/"
        },
        "outputId": "8d16baeb-cd5f-46ff-feb4-6fac95d03f62"
      },
      "source": [
        "# Train k-NN using the full training data with the best K that you found\n",
        "best_knn = KNeighborsClassifier(n_neighbors=kVals[np.argmax(accuracies)])\n",
        "best_knn.fit(train_df, train_labels)\n",
        "\n",
        "preds = best_knn.predict(test_df)\n",
        "accuracy = accuracy_score(test_labels, preds)\n",
        "print(accuracy)\n",
        "\n",
        "# Testing"
      ],
      "execution_count": 12,
      "outputs": [
        {
          "output_type": "stream",
          "text": [
            "0.8329484218629715\n"
          ],
          "name": "stdout"
        }
      ]
    },
    {
      "cell_type": "markdown",
      "metadata": {
        "id": "YBjX29muPFu0"
      },
      "source": [
        "# Report\n",
        "We need to classify wines as good or bad quality according to their given 12 numeric values. We will use decision trees and k-Nearest-Neighbors classifiers.\n",
        "\n",
        "We explored the data by looking at the dataframe's shape, head, and info. There were no categorical features, so we don't need any encoding. We also checked if there are any null values in the dataset, and there were none. As a result, there was no need for preprocessing.\n",
        "\n",
        "We need a validation set for tuning the hyperparameters. We split the training dataset into two random arrays (training set and validation sets) using sci-kit learn's train_test_split method. We have used a random state to create a reproducible output and give test size as 0.3 to have 70% training and 30% validation sets.\n",
        "\n",
        "We have obtained the best results with the Decision Tree classifier with min_samples_splits = 5, giving classification accuracy of 82.679% on test data. We have obtained the best results with the kNN classifier with n_neighbors = 1, giving classification accuracy of 83.294% on test data.\n",
        "\n",
        "kNN needs to scan the dataset every time prediction is required; that's why it was slower than decision tree."
      ]
    }
  ]
}