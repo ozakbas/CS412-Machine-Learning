{
  "nbformat": 4,
  "nbformat_minor": 0,
  "metadata": {
    "colab": {
      "name": "K_Nearest_Neighbors.ipynb",
      "provenance": [],
      "authorship_tag": "ABX9TyOhaeLRGfdTykmcT/dVQzRw",
      "include_colab_link": true
    },
    "kernelspec": {
      "name": "python3",
      "display_name": "Python 3"
    },
    "language_info": {
      "name": "python"
    }
  },
  "cells": [
    {
      "cell_type": "markdown",
      "metadata": {
        "id": "view-in-github",
        "colab_type": "text"
      },
      "source": [
        "<a href=\"https://colab.research.google.com/github/ozakbas/CS412-Machine-Learning/blob/main/Practices/K_Nearest_Neighbors.ipynb\" target=\"_parent\"><img src=\"https://colab.research.google.com/assets/colab-badge.svg\" alt=\"Open In Colab\"/></a>"
      ]
    },
    {
      "cell_type": "markdown",
      "metadata": {
        "id": "jFhlmx2mDMWe"
      },
      "source": [
        "# Load MNIST dataset"
      ]
    },
    {
      "cell_type": "markdown",
      "metadata": {
        "id": "3257GHe6EPw-"
      },
      "source": [
        "MNIST is a dataset of 60,000 28x28 grayscale images of the 10 digits, along with a test set of 10,000 images\n",
        "\n",
        "Load the dataset from keras. Keras returns train and test tuples of features and labels."
      ]
    },
    {
      "cell_type": "code",
      "metadata": {
        "colab": {
          "base_uri": "https://localhost:8080/"
        },
        "id": "4soZ_Rk39lp1",
        "outputId": "6b04e9e6-872f-4f19-bbbe-fc9e278d1745"
      },
      "source": [
        "from keras.datasets import mnist\n",
        "from matplotlib import pyplot as plt\n",
        "import numpy as np\n",
        "import pandas as pd\n",
        "import time\n",
        "\n",
        "(x_train, y_train), (x_test, y_test) = mnist.load_data()\n",
        "print(x_train.shape, x_test.shape)"
      ],
      "execution_count": 15,
      "outputs": [
        {
          "output_type": "stream",
          "text": [
            "(60000, 28, 28) (10000, 28, 28)\n"
          ],
          "name": "stdout"
        }
      ]
    },
    {
      "cell_type": "code",
      "metadata": {
        "colab": {
          "base_uri": "https://localhost:8080/",
          "height": 282
        },
        "id": "dQ2mlQC7FPcf",
        "outputId": "1df3184e-689f-4693-b1b9-f729f6881f73"
      },
      "source": [
        "# example image\n",
        "plt.imshow(x_train[50], cmap='gray_r')"
      ],
      "execution_count": 16,
      "outputs": [
        {
          "output_type": "execute_result",
          "data": {
            "text/plain": [
              "<matplotlib.image.AxesImage at 0x7f74969b12d0>"
            ]
          },
          "metadata": {
            "tags": []
          },
          "execution_count": 16
        },
        {
          "output_type": "display_data",
          "data": {
            "image/png": "[encoded data removed]",
            "text/plain": [
              "<Figure size 432x288 with 1 Axes>"
            ]
          },
          "metadata": {
            "tags": [],
            "needs_background": "light"
          }
        }
      ]
    },
    {
      "cell_type": "code",
      "metadata": {
        "id": "h3_5AkxmdbMm"
      },
      "source": [
        "# respresent features as a 1D array\n",
        "x_train = x_train.reshape(x_train.shape[0], x_train.shape[1] * x_train.shape[2])\n",
        "x_test = x_test.reshape(x_test.shape[0], x_test.shape[1] * x_test.shape[2])"
      ],
      "execution_count": 17,
      "outputs": []
    },
    {
      "cell_type": "code",
      "metadata": {
        "id": "SDBMqdGrnJVj"
      },
      "source": [
        "from sklearn.model_selection import train_test_split\n",
        "# Split 70-30\n",
        "(train_x, val_x, train_y, val_y) = train_test_split(x_train, y_train, test_size=0.3, random_state=12)"
      ],
      "execution_count": 18,
      "outputs": []
    },
    {
      "cell_type": "markdown",
      "metadata": {
        "id": "pA142KFUeLy9"
      },
      "source": [
        "# Train the k-NN classifier\n",
        "\n",
        "Import KNeighborsClassifier from scikit-learn library.\n"
      ]
    },
    {
      "cell_type": "code",
      "metadata": {
        "colab": {
          "base_uri": "https://localhost:8080/"
        },
        "id": "4uY_t9cpeje0",
        "outputId": "cc940999-0151-4c91-8ca4-61c75db59d92"
      },
      "source": [
        "from sklearn.neighbors import KNeighborsClassifier\n",
        "\n",
        "# Some of the default values: k=5, metric: Minkowski, Euclidean distance\n",
        "knn = KNeighborsClassifier()\n",
        "\n",
        "starting_time = time.time()\n",
        "\n",
        "#train the model\n",
        "knn.fit(x_train, y_train)\n",
        "print(\"training time: \", time.time()-starting_time)"
      ],
      "execution_count": 19,
      "outputs": [
        {
          "output_type": "stream",
          "text": [
            "training time:  31.555437088012695\n"
          ],
          "name": "stdout"
        }
      ]
    },
    {
      "cell_type": "markdown",
      "metadata": {
        "id": "6xR8H-f4mprd"
      },
      "source": [
        "Use a small porsion of the data to predict since time complexity of kNN prediction is high."
      ]
    },
    {
      "cell_type": "code",
      "metadata": {
        "colab": {
          "base_uri": "https://localhost:8080/"
        },
        "id": "7fGlI0wom70L",
        "outputId": "ae9d0add-3607-4824-f669-3d32d47266c2"
      },
      "source": [
        "# %10\n",
        "\n",
        "x_train_sample = train_x[0:round(train_x.shape[0]/10)]\n",
        "y_train_sample = train_y[0:round(train_x.shape[0]/10)]\n",
        "\n",
        "val_x_sample = val_x[0:round(val_x.shape[0]/10)]\n",
        "val_y_sample = val_y[0:round(val_x.shape[0]/10)]\n",
        "\n",
        "test_x_sample = x_test[0:round(x_test.shape[0]/10),]\n",
        "test_y_sample = y_test[0:round(x_test.shape[0]/10)]\n",
        "\n",
        "print('Training data new shape: ', x_train_sample.shape)\n",
        "print('Val data new shape: ', val_x_sample.shape)\n",
        "print('Test data new shape: ', test_x_sample.shape)"
      ],
      "execution_count": 20,
      "outputs": [
        {
          "output_type": "stream",
          "text": [
            "Training data new shape:  (4200, 784)\n",
            "Val data new shape:  (1800, 784)\n",
            "Test data new shape:  (1000, 784)\n"
          ],
          "name": "stdout"
        }
      ]
    },
    {
      "cell_type": "markdown",
      "metadata": {
        "id": "D-JyF0g5oD3v"
      },
      "source": [
        "Tune k value hyperparameter"
      ]
    },
    {
      "cell_type": "code",
      "metadata": {
        "colab": {
          "base_uri": "https://localhost:8080/"
        },
        "id": "CPqxhAY3oLM0",
        "outputId": "f16c602b-11fe-478a-e015-9f36f52732a9"
      },
      "source": [
        "k = [1,3,5,7,9]\n",
        "accuracies = []\n",
        "\n",
        "for k in k:\n",
        "  \n",
        "  knn = KNeighborsClassifier(n_neighbors=k)\n",
        "  knn.fit(x_train_sample, y_train_sample)\n",
        "\n",
        "  score = knn.score(val_x_sample, val_y_sample)\n",
        "  accuracies.append(score)\n",
        "\n",
        "  print(\"k = {} accuracy = {:.5f}\".format(k, score))"
      ],
      "execution_count": 21,
      "outputs": [
        {
          "output_type": "stream",
          "text": [
            "k = 1 accuracy = 0.93000\n",
            "k = 3 accuracy = 0.93667\n",
            "k = 5 accuracy = 0.93167\n",
            "k = 7 accuracy = 0.92833\n",
            "k = 9 accuracy = 0.92944\n"
          ],
          "name": "stdout"
        }
      ]
    },
    {
      "cell_type": "markdown",
      "metadata": {
        "id": "SSy4iU3SscV-"
      },
      "source": [
        "Train kNN with the best k value"
      ]
    },
    {
      "cell_type": "code",
      "metadata": {
        "id": "xawb2EyTsgKC"
      },
      "source": [
        "knn = KNeighborsClassifier(n_neighbors=3)\n",
        "knn.fit(x_train_sample, y_train_sample)\n",
        "predictions = knn.predict(test_x_sample)"
      ],
      "execution_count": 30,
      "outputs": []
    },
    {
      "cell_type": "code",
      "metadata": {
        "colab": {
          "base_uri": "https://localhost:8080/"
        },
        "id": "uDgTbKPuvXQF",
        "outputId": "575600ae-3d30-4b06-985d-201c5ca65c49"
      },
      "source": [
        "# Calculate the accuracy given the true labels and prediction of test data\n",
        "from sklearn.metrics import accuracy_score\n",
        "TestAccuracy = accuracy_score(test_y_sample, predictions)\n",
        "print(\"Testing Accuracy = %{:.3f}\".format(TestAccuracy * 100))"
      ],
      "execution_count": 33,
      "outputs": [
        {
          "output_type": "stream",
          "text": [
            "Testing Accuracy = %91.200\n"
          ],
          "name": "stdout"
        }
      ]
    }
  ]
}