{
  "nbformat": 4,
  "nbformat_minor": 0,
  "metadata": {
    "colab": {
      "name": "ML_HW3.ipynb",
      "provenance": [],
      "collapsed_sections": [],
      "include_colab_link": true
    },
    "kernelspec": {
      "name": "python3",
      "display_name": "Python 3"
    },
    "language_info": {
      "name": "python"
    }
  },
  "cells": [
    {
      "cell_type": "markdown",
      "metadata": {
        "id": "view-in-github",
        "colab_type": "text"
      },
      "source": [
        "<a href=\"https://colab.research.google.com/github/ozakbas/CS412-Machine-Learning/blob/main/ML_HW3.ipynb\" target=\"_parent\"><img src=\"https://colab.research.google.com/assets/colab-badge.svg\" alt=\"Open In Colab\"/></a>"
      ]
    },
    {
      "cell_type": "markdown",
      "metadata": {
        "id": "MsPftUCDDurU"
      },
      "source": [
        "# CS 412 Machine Learning 2020 \n",
        "\n",
        "# Assignment 3\n",
        "\n",
        "100 pts\n",
        "\n",
        "## Goal \n",
        "\n",
        "The goal of this assignment \n",
        "\n",
        "*  Introduction to working with text data\n",
        "*  Gain experience with the Scikit-Learn library\n",
        "*  Gain experience with Naive Bayes and Logistic Regression\n",
        "\n",
        "## Dataset\n",
        "\n",
        "**20 Newsgroup Dataset** is a collection 18846 documents which are about 20 different topics.\n",
        "\n",
        "\n",
        "## Task\n",
        "Build naive bayes and logistic regression classifiers with the scikit-learn library function to **classify** the documents about their content topic.\n",
        "\n",
        "## Submission\n",
        "\n",
        "Follow the instructions at the end."
      ]
    },
    {
      "cell_type": "markdown",
      "metadata": {
        "id": "tNnWi0hUEE_P"
      },
      "source": [
        "# 1) Initialize\n",
        "\n",
        "First, make a copy of this notebook in your drive"
      ]
    },
    {
      "cell_type": "markdown",
      "metadata": {
        "id": "JritpHX7EKdr"
      },
      "source": [
        "# 2) Load Dataset\n",
        "\n",
        "The 20 Newsgroup Dataset exist on Scikit-Learn library."
      ]
    },
    {
      "cell_type": "code",
      "metadata": {
        "id": "me2JuqB9EN3U"
      },
      "source": [
        "from sklearn.datasets import fetch_20newsgroups"
      ],
      "execution_count": null,
      "outputs": []
    },
    {
      "cell_type": "code",
      "metadata": {
        "id": "3zOI7YAhE2x3",
        "colab": {
          "base_uri": "https://localhost:8080/"
        },
        "outputId": "d1fe65be-c72d-4994-f39b-fd32288668ae"
      },
      "source": [
        "train_batch = fetch_20newsgroups(subset='train')\n",
        "test_batch = fetch_20newsgroups(subset='test')"
      ],
      "execution_count": null,
      "outputs": [
        {
          "output_type": "stream",
          "text": [
            "Downloading 20news dataset. This may take a few minutes.\n",
            "Downloading dataset from https://ndownloader.figshare.com/files/5975967 (14 MB)\n"
          ],
          "name": "stderr"
        }
      ]
    },
    {
      "cell_type": "code",
      "metadata": {
        "colab": {
          "base_uri": "https://localhost:8080/"
        },
        "id": "nkSAOk1aKUzl",
        "outputId": "d401b5e0-e1eb-400f-e2e1-3a1707cf0ad7"
      },
      "source": [
        "# target groups you will be dealing with\n",
        "target_groups = train_batch.target_names\n",
        "target_groups"
      ],
      "execution_count": null,
      "outputs": [
        {
          "output_type": "execute_result",
          "data": {
            "text/plain": [
              "['alt.atheism',\n",
              " 'comp.graphics',\n",
              " 'comp.os.ms-windows.misc',\n",
              " 'comp.sys.ibm.pc.hardware',\n",
              " 'comp.sys.mac.hardware',\n",
              " 'comp.windows.x',\n",
              " 'misc.forsale',\n",
              " 'rec.autos',\n",
              " 'rec.motorcycles',\n",
              " 'rec.sport.baseball',\n",
              " 'rec.sport.hockey',\n",
              " 'sci.crypt',\n",
              " 'sci.electronics',\n",
              " 'sci.med',\n",
              " 'sci.space',\n",
              " 'soc.religion.christian',\n",
              " 'talk.politics.guns',\n",
              " 'talk.politics.mideast',\n",
              " 'talk.politics.misc',\n",
              " 'talk.religion.misc']"
            ]
          },
          "metadata": {
            "tags": []
          },
          "execution_count": 3
        }
      ]
    },
    {
      "cell_type": "code",
      "metadata": {
        "id": "oEY5XoYmFVTr"
      },
      "source": [
        "# creating training and test sets\n",
        "train_x =  train_batch[\"data\"]\n",
        "train_y =  train_batch[\"target\"]\n",
        "test_x  =  test_batch[\"data\"]\n",
        "test_y  =  test_batch[\"target\"]"
      ],
      "execution_count": null,
      "outputs": []
    },
    {
      "cell_type": "code",
      "metadata": {
        "colab": {
          "base_uri": "https://localhost:8080/"
        },
        "id": "EFbBClzEKNGe",
        "outputId": "5fde204e-ba93-44fb-91e6-a0fd7b9f0c61"
      },
      "source": [
        "print(len(train_x), len(test_x))"
      ],
      "execution_count": null,
      "outputs": [
        {
          "output_type": "stream",
          "text": [
            "11314 7532\n"
          ],
          "name": "stdout"
        }
      ]
    },
    {
      "cell_type": "code",
      "metadata": {
        "colab": {
          "base_uri": "https://localhost:8080/"
        },
        "id": "3aiFqFY-Ftkc",
        "outputId": "07a06d41-c643-4efd-967b-7b6957687bb8"
      },
      "source": [
        "print(train_x[0])\n",
        "print(target_groups[train_y[0]])"
      ],
      "execution_count": null,
      "outputs": [
        {
          "output_type": "stream",
          "text": [
            "From: lerxst@wam.umd.edu (where's my thing)\n",
            "Subject: WHAT car is this!?\n",
            "Nntp-Posting-Host: rac3.wam.umd.edu\n",
            "Organization: University of Maryland, College Park\n",
            "Lines: 15\n",
            "\n",
            " I was wondering if anyone out there could enlighten me on this car I saw\n",
            "the other day. It was a 2-door sports car, looked to be from the late 60s/\n",
            "early 70s. It was called a Bricklin. The doors were really small. In addition,\n",
            "the front bumper was separate from the rest of the body. This is \n",
            "all I know. If anyone can tellme a model name, engine specs, years\n",
            "of production, where this car is made, history, or whatever info you\n",
            "have on this funky looking car, please e-mail.\n",
            "\n",
            "Thanks,\n",
            "- IL\n",
            "   ---- brought to you by your neighborhood Lerxst ----\n",
            "\n",
            "\n",
            "\n",
            "\n",
            "\n",
            "rec.autos\n"
          ],
          "name": "stdout"
        }
      ]
    },
    {
      "cell_type": "markdown",
      "metadata": {
        "id": "FV4AaTk8JSPg"
      },
      "source": [
        "# Preprocess"
      ]
    },
    {
      "cell_type": "code",
      "metadata": {
        "id": "AZdKd6oAJWrj"
      },
      "source": [
        "import re"
      ],
      "execution_count": null,
      "outputs": []
    },
    {
      "cell_type": "code",
      "metadata": {
        "id": "aukUdxk3JXft"
      },
      "source": [
        "%%capture\n",
        "import nltk\n",
        "nltk.download(\"stopwords\")"
      ],
      "execution_count": null,
      "outputs": []
    },
    {
      "cell_type": "code",
      "metadata": {
        "id": "c1oq7z0wJXdj",
        "colab": {
          "base_uri": "https://localhost:8080/"
        },
        "outputId": "a4596511-8100-4fb5-9591-dbfc2a9e8060"
      },
      "source": [
        "from nltk.corpus import stopwords\n",
        "stop_words = stopwords.words(\"english\")\n",
        "\n",
        "stop_words.append(\"subject\")\n",
        "\n",
        "print(stop_words)"
      ],
      "execution_count": null,
      "outputs": [
        {
          "output_type": "stream",
          "text": [
            "['i', 'me', 'my', 'myself', 'we', 'our', 'ours', 'ourselves', 'you', \"you're\", \"you've\", \"you'll\", \"you'd\", 'your', 'yours', 'yourself', 'yourselves', 'he', 'him', 'his', 'himself', 'she', \"she's\", 'her', 'hers', 'herself', 'it', \"it's\", 'its', 'itself', 'they', 'them', 'their', 'theirs', 'themselves', 'what', 'which', 'who', 'whom', 'this', 'that', \"that'll\", 'these', 'those', 'am', 'is', 'are', 'was', 'were', 'be', 'been', 'being', 'have', 'has', 'had', 'having', 'do', 'does', 'did', 'doing', 'a', 'an', 'the', 'and', 'but', 'if', 'or', 'because', 'as', 'until', 'while', 'of', 'at', 'by', 'for', 'with', 'about', 'against', 'between', 'into', 'through', 'during', 'before', 'after', 'above', 'below', 'to', 'from', 'up', 'down', 'in', 'out', 'on', 'off', 'over', 'under', 'again', 'further', 'then', 'once', 'here', 'there', 'when', 'where', 'why', 'how', 'all', 'any', 'both', 'each', 'few', 'more', 'most', 'other', 'some', 'such', 'no', 'nor', 'not', 'only', 'own', 'same', 'so', 'than', 'too', 'very', 's', 't', 'can', 'will', 'just', 'don', \"don't\", 'should', \"should've\", 'now', 'd', 'll', 'm', 'o', 're', 've', 'y', 'ain', 'aren', \"aren't\", 'couldn', \"couldn't\", 'didn', \"didn't\", 'doesn', \"doesn't\", 'hadn', \"hadn't\", 'hasn', \"hasn't\", 'haven', \"haven't\", 'isn', \"isn't\", 'ma', 'mightn', \"mightn't\", 'mustn', \"mustn't\", 'needn', \"needn't\", 'shan', \"shan't\", 'shouldn', \"shouldn't\", 'wasn', \"wasn't\", 'weren', \"weren't\", 'won', \"won't\", 'wouldn', \"wouldn't\", 'subject']\n"
          ],
          "name": "stdout"
        }
      ]
    },
    {
      "cell_type": "code",
      "metadata": {
        "id": "ldItHamFJwcO"
      },
      "source": [
        "from nltk.stem.snowball import SnowballStemmer\n",
        "stemmer = SnowballStemmer(\"english\")"
      ],
      "execution_count": null,
      "outputs": []
    },
    {
      "cell_type": "code",
      "metadata": {
        "id": "9YL6H0AQHwZl"
      },
      "source": [
        "# You will use this function to preprocess your data. If you would like to add another preprocessing step in the function, please add it and mention about it in your report.\n",
        "def preprocess(text):\n",
        "  text = re.sub(\"[\\w\\d._]+@[^\\s]+|[^\\s]+\\.[^\\s]+|[^\\s]+-[^\\s]+|\\d+|[^\\w\\s]\",\"\",text.lower().strip())\n",
        "  text = ' '.join([stemmer.stem(word) for word in re.findall(\"\\w+\",text) if word not in stop_words])\n",
        "  return text"
      ],
      "execution_count": null,
      "outputs": []
    },
    {
      "cell_type": "code",
      "metadata": {
        "id": "CL-jPAXPJffh"
      },
      "source": [
        "# Apply <preprocess> function on the training and test set \n",
        "\n",
        "preprocessed_train_x = []\n",
        "preprocessed_test_x = []\n",
        "\n",
        "def preprocess_set(original_set, new_set):\n",
        "  for text in original_set:\n",
        "    text = preprocess(text)\n",
        "    new_set.append(text)\n",
        "\n",
        "preprocess_set(train_x, preprocessed_train_x)\n",
        "preprocess_set(test_x, preprocessed_train_x)"
      ],
      "execution_count": null,
      "outputs": []
    },
    {
      "cell_type": "code",
      "metadata": {
        "id": "7wgY8AjnmZzk",
        "colab": {
          "base_uri": "https://localhost:8080/"
        },
        "outputId": "f7e268d4-61e8-443a-8954-af09291e3b17"
      },
      "source": [
        "print(train_x[0])\n",
        "print(preprocessed_train_x[0])"
      ],
      "execution_count": null,
      "outputs": [
        {
          "output_type": "stream",
          "text": [
            "From: lerxst@wam.umd.edu (where's my thing)\n",
            "Subject: WHAT car is this!?\n",
            "Nntp-Posting-Host: rac3.wam.umd.edu\n",
            "Organization: University of Maryland, College Park\n",
            "Lines: 15\n",
            "\n",
            " I was wondering if anyone out there could enlighten me on this car I saw\n",
            "the other day. It was a 2-door sports car, looked to be from the late 60s/\n",
            "early 70s. It was called a Bricklin. The doors were really small. In addition,\n",
            "the front bumper was separate from the rest of the body. This is \n",
            "all I know. If anyone can tellme a model name, engine specs, years\n",
            "of production, where this car is made, history, or whatever info you\n",
            "have on this funky looking car, please e-mail.\n",
            "\n",
            "Thanks,\n",
            "- IL\n",
            "   ---- brought to you by your neighborhood Lerxst ----\n",
            "\n",
            "\n",
            "\n",
            "\n",
            "\n",
            "where thing car organ univers maryland colleg park line wonder anyon could enlighten car saw day sport car look late earli call bricklin door realli small addit front bumper separ rest bodi know anyon tellm model name engin spec year product car made histori whatev info funki look car pleas thank il brought neighborhood lerxst\n"
          ],
          "name": "stdout"
        }
      ]
    },
    {
      "cell_type": "markdown",
      "metadata": {
        "id": "jOFFQwnUOCCY"
      },
      "source": [
        "# Models"
      ]
    },
    {
      "cell_type": "code",
      "metadata": {
        "id": "9yoKTkRCOFQh"
      },
      "source": [
        "from sklearn.naive_bayes import MultinomialNB\n",
        "from sklearn.linear_model import LogisticRegression\n",
        "\n",
        "from sklearn.feature_extraction.text import CountVectorizer\n",
        "\n",
        "from sklearn.pipeline import Pipeline\n",
        "from sklearn.model_selection import GridSearchCV\n",
        "\n",
        "from sklearn.metrics import accuracy_score\n",
        "\n",
        "import numpy as np\n",
        "import pandas as pd"
      ],
      "execution_count": null,
      "outputs": []
    },
    {
      "cell_type": "markdown",
      "metadata": {
        "id": "gXJGT2HpNY8_"
      },
      "source": [
        "## Tune Naive Bayes"
      ]
    },
    {
      "cell_type": "code",
      "metadata": {
        "id": "QA5QFz37BoBc"
      },
      "source": [
        "# Create a CountVectorizer for NB with:\n",
        "#     min_df = 50\n",
        "#     max_df = 3000\n",
        "#     stop_words = stop_words\n",
        "\n",
        "vectorizer = CountVectorizer(min_df = 50, max_df = 3000, stop_words = stop_words)"
      ],
      "execution_count": null,
      "outputs": []
    },
    {
      "cell_type": "code",
      "metadata": {
        "id": "fS5WNNEhBxiZ"
      },
      "source": [
        "train_x = vectorizer.fit_transform(train_x)\n",
        "test_x = vectorizer.transform(test_x)\n"
      ],
      "execution_count": null,
      "outputs": []
    },
    {
      "cell_type": "code",
      "metadata": {
        "id": "tVdPwcrsNymU",
        "colab": {
          "base_uri": "https://localhost:8080/"
        },
        "outputId": "482531c7-a9ad-42b4-9c17-09861f28a5bb"
      },
      "source": [
        "#https://scikit-learn.org/stable/modules/generated/sklearn.naive_bayes.MultinomialNB.html\n",
        "\n",
        "#Initiate the pipeline with required components.\n",
        "mnb_pipeline = Pipeline([(\"clf\", MultinomialNB())])\n",
        "\n",
        "#Set the hyperparameter space that will be scanned:\n",
        "hyperparameters = dict(\n",
        "    clf__alpha = (0.1, 0.5, 1.0, 5.0),\n",
        ")\n",
        "\n",
        "\n",
        "#Let the GridSearchCV scan the hyperparameter and find the best hyperparameter set that will maximize the scoring option.\n",
        "#   cv = 3\n",
        "#   scoring = \"accuracy\"\n",
        "mnb_grid_search = GridSearchCV(mnb_pipeline,hyperparameters,cv=3,scoring=\"accuracy\",n_jobs=-1)\n",
        "mnb_grid_search.fit(train_x,train_y)"
      ],
      "execution_count": null,
      "outputs": [
        {
          "output_type": "execute_result",
          "data": {
            "text/plain": [
              "GridSearchCV(cv=3, error_score=nan,\n",
              "             estimator=Pipeline(memory=None,\n",
              "                                steps=[('clf',\n",
              "                                        MultinomialNB(alpha=1.0,\n",
              "                                                      class_prior=None,\n",
              "                                                      fit_prior=True))],\n",
              "                                verbose=False),\n",
              "             iid='deprecated', n_jobs=-1,\n",
              "             param_grid={'clf__alpha': (0.1, 0.5, 1.0, 5.0)},\n",
              "             pre_dispatch='2*n_jobs', refit=True, return_train_score=False,\n",
              "             scoring='accuracy', verbose=0)"
            ]
          },
          "metadata": {
            "tags": []
          },
          "execution_count": 17
        }
      ]
    },
    {
      "cell_type": "code",
      "metadata": {
        "id": "E4xyqjD1N5Zr",
        "colab": {
          "base_uri": "https://localhost:8080/"
        },
        "outputId": "ab856b08-6d06-42c8-c8e2-0c5c06ae1894"
      },
      "source": [
        "# show the best score\n",
        "mnb_grid_search.best_score_"
      ],
      "execution_count": null,
      "outputs": [
        {
          "output_type": "execute_result",
          "data": {
            "text/plain": [
              "0.8329509805768737"
            ]
          },
          "metadata": {
            "tags": []
          },
          "execution_count": 18
        }
      ]
    },
    {
      "cell_type": "code",
      "metadata": {
        "id": "KD888YxgO9d0",
        "colab": {
          "base_uri": "https://localhost:8080/"
        },
        "outputId": "d4865255-6124-41fc-ca03-8cf70c070b2c"
      },
      "source": [
        "# show the best parameter\n",
        "mnb_grid_search.best_params_"
      ],
      "execution_count": null,
      "outputs": [
        {
          "output_type": "execute_result",
          "data": {
            "text/plain": [
              "{'clf__alpha': 0.1}"
            ]
          },
          "metadata": {
            "tags": []
          },
          "execution_count": 19
        }
      ]
    },
    {
      "cell_type": "markdown",
      "metadata": {
        "id": "UJu_rA56W5jn"
      },
      "source": [
        "### Evaluate The Best Model for NB"
      ]
    },
    {
      "cell_type": "code",
      "metadata": {
        "id": "DTTHdeA4O_kd"
      },
      "source": [
        "#Create your NB model with the best parameter set.\n",
        "mnb_pipeline = Pipeline([\n",
        "                         (\"clf\", MultinomialNB())\n",
        "]).set_params(**mnb_grid_search.best_params_)\n",
        "\n",
        "#Fit your model on training set.\n",
        "model = mnb_pipeline.fit(train_x,train_y)"
      ],
      "execution_count": null,
      "outputs": []
    },
    {
      "cell_type": "code",
      "metadata": {
        "id": "Unaw09TcXDGO"
      },
      "source": [
        "# Make predictions on test set\n",
        "predictions = model.predict(test_x)\n"
      ],
      "execution_count": null,
      "outputs": []
    },
    {
      "cell_type": "code",
      "metadata": {
        "id": "QIkAMwHKXEym",
        "colab": {
          "base_uri": "https://localhost:8080/"
        },
        "outputId": "ed2f2822-02fa-450c-8797-4a4c2e7eb676"
      },
      "source": [
        "# Show your accuracy on test set\n",
        "accuracy_score(test_y,predictions)"
      ],
      "execution_count": null,
      "outputs": [
        {
          "output_type": "execute_result",
          "data": {
            "text/plain": [
              "0.751327668613914"
            ]
          },
          "metadata": {
            "tags": []
          },
          "execution_count": 22
        }
      ]
    },
    {
      "cell_type": "markdown",
      "metadata": {
        "id": "oJX62dPOXPdH"
      },
      "source": [
        "## Tune Logistic Regresion"
      ]
    },
    {
      "cell_type": "code",
      "metadata": {
        "id": "Wv2aolaqXF5c",
        "colab": {
          "base_uri": "https://localhost:8080/"
        },
        "outputId": "72b06a84-82aa-4ee8-a1f2-24a82d1f49ed"
      },
      "source": [
        "#https://scikit-learn.org/stable/modules/generated/sklearn.linear_model.LogisticRegression.html\n",
        "\n",
        "#Initiate the LR model:\n",
        "#   max_iter=2000\n",
        "model2 = LogisticRegression(max_iter=2000)\n",
        "\n",
        "# Set the hyperparameter space that will be scanned:\n",
        "#     C = (0.001,0.01,0.1,1)     \n",
        "hyperparameters = dict(\n",
        "    clf__C = (0.001,0.01,0.1,1)  \n",
        ")\n",
        "\n",
        "lr_pipeline = Pipeline([\n",
        "                         (\"clf\", LogisticRegression())\n",
        "])\n",
        "\n",
        "\n",
        "#Let the GridSearchCV scan the hyperparameter and find the best hyperparameter set that will maximize the scoring option.\n",
        "#   cv = 3\n",
        "#   scoring = \"accuracy\"\n",
        "\n",
        "lr_grid_search = GridSearchCV(lr_pipeline,hyperparameters,cv=3,scoring=\"accuracy\",n_jobs=-1)\n",
        "lr_grid_search.fit(train_x,train_y)"
      ],
      "execution_count": null,
      "outputs": [
        {
          "output_type": "execute_result",
          "data": {
            "text/plain": [
              "GridSearchCV(cv=3, error_score=nan,\n",
              "             estimator=Pipeline(memory=None,\n",
              "                                steps=[('clf',\n",
              "                                        LogisticRegression(C=1.0,\n",
              "                                                           class_weight=None,\n",
              "                                                           dual=False,\n",
              "                                                           fit_intercept=True,\n",
              "                                                           intercept_scaling=1,\n",
              "                                                           l1_ratio=None,\n",
              "                                                           max_iter=100,\n",
              "                                                           multi_class='auto',\n",
              "                                                           n_jobs=None,\n",
              "                                                           penalty='l2',\n",
              "                                                           random_state=None,\n",
              "                                                           solver='lbfgs',\n",
              "                                                           tol=0.0001,\n",
              "                                                           verbose=0,\n",
              "                                                           warm_start=False))],\n",
              "                                verbose=False),\n",
              "             iid='deprecated', n_jobs=-1,\n",
              "             param_grid={'clf__C': (0.001, 0.01, 0.1, 1)},\n",
              "             pre_dispatch='2*n_jobs', refit=True, return_train_score=False,\n",
              "             scoring='accuracy', verbose=0)"
            ]
          },
          "metadata": {
            "tags": []
          },
          "execution_count": 23
        }
      ]
    },
    {
      "cell_type": "code",
      "metadata": {
        "id": "rhToPngFlsRX",
        "colab": {
          "base_uri": "https://localhost:8080/"
        },
        "outputId": "5fe228a5-e669-49b7-d21e-0f84c3bc9519"
      },
      "source": [
        "# show the best score\n",
        "lr_grid_search.best_score_"
      ],
      "execution_count": null,
      "outputs": [
        {
          "output_type": "execute_result",
          "data": {
            "text/plain": [
              "0.8411708383798929"
            ]
          },
          "metadata": {
            "tags": []
          },
          "execution_count": 24
        }
      ]
    },
    {
      "cell_type": "code",
      "metadata": {
        "id": "oKQh_pyJl7cy",
        "colab": {
          "base_uri": "https://localhost:8080/"
        },
        "outputId": "a9a5da7b-4bf7-4255-a41c-e309c7fbcaee"
      },
      "source": [
        "# show the best parameter\n",
        "lr_grid_search.best_params_"
      ],
      "execution_count": null,
      "outputs": [
        {
          "output_type": "execute_result",
          "data": {
            "text/plain": [
              "{'clf__C': 0.1}"
            ]
          },
          "metadata": {
            "tags": []
          },
          "execution_count": 25
        }
      ]
    },
    {
      "cell_type": "markdown",
      "metadata": {
        "id": "-6n8TCfTbK8N"
      },
      "source": [
        "### Evaluate The Best Model for Logistic Regression"
      ]
    },
    {
      "cell_type": "code",
      "metadata": {
        "id": "xIEOi8FEYcC8"
      },
      "source": [
        "#Create your LR model with the best parameter set.\n",
        "lr_pipeline = Pipeline([\n",
        "                         (\"clf\", LogisticRegression())\n",
        "]).set_params(**lr_grid_search.best_params_)\n",
        "\n",
        "#Fit your model on training set.\n",
        "model2 = lr_pipeline.fit(train_x,train_y)"
      ],
      "execution_count": null,
      "outputs": []
    },
    {
      "cell_type": "code",
      "metadata": {
        "id": "9u1ah0awbY4t"
      },
      "source": [
        "# Make predictions on test set\n",
        "predictions = model2.predict(test_x)"
      ],
      "execution_count": null,
      "outputs": []
    },
    {
      "cell_type": "code",
      "metadata": {
        "id": "6vH2DKHhbrPa",
        "colab": {
          "base_uri": "https://localhost:8080/"
        },
        "outputId": "442c931d-4b53-4a9b-93a4-4b65314f5377"
      },
      "source": [
        "# Show your accuracy on test set\n",
        "accuracy_score(test_y,predictions)"
      ],
      "execution_count": null,
      "outputs": [
        {
          "output_type": "execute_result",
          "data": {
            "text/plain": [
              "0.758364312267658"
            ]
          },
          "metadata": {
            "tags": []
          },
          "execution_count": 28
        }
      ]
    },
    {
      "cell_type": "markdown",
      "metadata": {
        "id": "exoff4yjb7uI"
      },
      "source": [
        "# Feature Importances"
      ]
    },
    {
      "cell_type": "code",
      "metadata": {
        "id": "ooLctLNhJoki",
        "colab": {
          "base_uri": "https://localhost:8080/"
        },
        "outputId": "e4b367ee-3c37-426f-b34d-baaa3f142652"
      },
      "source": [
        "# Find the each category's most important top 3 features (words) for LR model and show with a dataframe\n",
        "lr_data = {}\n",
        "\n",
        "model2 = model2.named_steps['clf']\n",
        "\n",
        "vectorizer._validate_vocabulary()\n",
        "words = vectorizer.get_feature_names()\n",
        "\n",
        "for index, category in enumerate(target_groups):\n",
        "\n",
        "  coefs = model2.coef_[index].flatten().tolist()\n",
        "\n",
        "  coef_word = sorted(list(zip(words,coefs)),reverse=True,key=lambda x: x[1])\n",
        "  lr_data[category] = [coef_word[0][0], coef_word[1][0], coef_word[2][0]]\n",
        "\n",
        "print(lr_data)\n"
      ],
      "execution_count": null,
      "outputs": [
        {
          "output_type": "stream",
          "text": [
            "{'alt.atheism': ['atheists', 'keith', 'atheism'], 'comp.graphics': ['graphics', '3d', 'image'], 'comp.os.ms-windows.misc': ['windows', 'cica', 'file'], 'comp.sys.ibm.pc.hardware': ['monitor', 'pc', 'gateway'], 'comp.sys.mac.hardware': ['mac', 'apple', 'quadra'], 'comp.windows.x': ['motif', 'server', 'x11r5'], 'misc.forsale': ['sale', 'forsale', 'wanted'], 'rec.autos': ['car', 'cars', 'automotive'], 'rec.motorcycles': ['dod', 'bike', 'bikes'], 'rec.sport.baseball': ['baseball', 'phillies', 'cubs'], 'rec.sport.hockey': ['hockey', 'nhl', 'team'], 'sci.crypt': ['clipper', 'encryption', 'key'], 'sci.electronics': ['electronics', 'circuit', 'tv'], 'sci.med': ['doctor', 'disease', 'treatment'], 'sci.space': ['space', 'orbit', 'moon'], 'soc.religion.christian': ['clh', 'church', 'god'], 'talk.politics.guns': ['guns', 'gun', 'waco'], 'talk.politics.mideast': ['israel', 'israeli', 'serdar'], 'talk.politics.misc': ['clinton', 'rutgers', 'tax'], 'talk.religion.misc': ['christian', 'order', 'koresh']}\n"
          ],
          "name": "stdout"
        }
      ]
    },
    {
      "cell_type": "code",
      "metadata": {
        "id": "UbE3mDdiT1XQ",
        "colab": {
          "base_uri": "https://localhost:8080/",
          "height": 175
        },
        "outputId": "744917c0-5a5a-4120-ef25-1485740163f9"
      },
      "source": [
        "lr_df = pd.DataFrame(lr_data)\n",
        "lr_df"
      ],
      "execution_count": null,
      "outputs": [
        {
          "output_type": "execute_result",
          "data": {
            "text/html": [
              "<div>\n",
              "<style scoped>\n",
              "    .dataframe tbody tr th:only-of-type {\n",
              "        vertical-align: middle;\n",
              "    }\n",
              "\n",
              "    .dataframe tbody tr th {\n",
              "        vertical-align: top;\n",
              "    }\n",
              "\n",
              "    .dataframe thead th {\n",
              "        text-align: right;\n",
              "    }\n",
              "</style>\n",
              "<table border=\"1\" class=\"dataframe\">\n",
              "  <thead>\n",
              "    <tr style=\"text-align: right;\">\n",
              "      <th></th>\n",
              "      <th>alt.atheism</th>\n",
              "      <th>comp.graphics</th>\n",
              "      <th>comp.os.ms-windows.misc</th>\n",
              "      <th>comp.sys.ibm.pc.hardware</th>\n",
              "      <th>comp.sys.mac.hardware</th>\n",
              "      <th>comp.windows.x</th>\n",
              "      <th>misc.forsale</th>\n",
              "      <th>rec.autos</th>\n",
              "      <th>rec.motorcycles</th>\n",
              "      <th>rec.sport.baseball</th>\n",
              "      <th>rec.sport.hockey</th>\n",
              "      <th>sci.crypt</th>\n",
              "      <th>sci.electronics</th>\n",
              "      <th>sci.med</th>\n",
              "      <th>sci.space</th>\n",
              "      <th>soc.religion.christian</th>\n",
              "      <th>talk.politics.guns</th>\n",
              "      <th>talk.politics.mideast</th>\n",
              "      <th>talk.politics.misc</th>\n",
              "      <th>talk.religion.misc</th>\n",
              "    </tr>\n",
              "  </thead>\n",
              "  <tbody>\n",
              "    <tr>\n",
              "      <th>0</th>\n",
              "      <td>atheists</td>\n",
              "      <td>graphics</td>\n",
              "      <td>windows</td>\n",
              "      <td>monitor</td>\n",
              "      <td>mac</td>\n",
              "      <td>motif</td>\n",
              "      <td>sale</td>\n",
              "      <td>car</td>\n",
              "      <td>dod</td>\n",
              "      <td>baseball</td>\n",
              "      <td>hockey</td>\n",
              "      <td>clipper</td>\n",
              "      <td>electronics</td>\n",
              "      <td>doctor</td>\n",
              "      <td>space</td>\n",
              "      <td>clh</td>\n",
              "      <td>guns</td>\n",
              "      <td>israel</td>\n",
              "      <td>clinton</td>\n",
              "      <td>christian</td>\n",
              "    </tr>\n",
              "    <tr>\n",
              "      <th>1</th>\n",
              "      <td>keith</td>\n",
              "      <td>3d</td>\n",
              "      <td>cica</td>\n",
              "      <td>pc</td>\n",
              "      <td>apple</td>\n",
              "      <td>server</td>\n",
              "      <td>forsale</td>\n",
              "      <td>cars</td>\n",
              "      <td>bike</td>\n",
              "      <td>phillies</td>\n",
              "      <td>nhl</td>\n",
              "      <td>encryption</td>\n",
              "      <td>circuit</td>\n",
              "      <td>disease</td>\n",
              "      <td>orbit</td>\n",
              "      <td>church</td>\n",
              "      <td>gun</td>\n",
              "      <td>israeli</td>\n",
              "      <td>rutgers</td>\n",
              "      <td>order</td>\n",
              "    </tr>\n",
              "    <tr>\n",
              "      <th>2</th>\n",
              "      <td>atheism</td>\n",
              "      <td>image</td>\n",
              "      <td>file</td>\n",
              "      <td>gateway</td>\n",
              "      <td>quadra</td>\n",
              "      <td>x11r5</td>\n",
              "      <td>wanted</td>\n",
              "      <td>automotive</td>\n",
              "      <td>bikes</td>\n",
              "      <td>cubs</td>\n",
              "      <td>team</td>\n",
              "      <td>key</td>\n",
              "      <td>tv</td>\n",
              "      <td>treatment</td>\n",
              "      <td>moon</td>\n",
              "      <td>god</td>\n",
              "      <td>waco</td>\n",
              "      <td>serdar</td>\n",
              "      <td>tax</td>\n",
              "      <td>koresh</td>\n",
              "    </tr>\n",
              "  </tbody>\n",
              "</table>\n",
              "</div>"
            ],
            "text/plain": [
              "  alt.atheism comp.graphics  ... talk.politics.misc talk.religion.misc\n",
              "0    atheists      graphics  ...            clinton          christian\n",
              "1       keith            3d  ...            rutgers              order\n",
              "2     atheism         image  ...                tax             koresh\n",
              "\n",
              "[3 rows x 20 columns]"
            ]
          },
          "metadata": {
            "tags": []
          },
          "execution_count": 30
        }
      ]
    },
    {
      "cell_type": "code",
      "metadata": {
        "id": "MvzMKbS1qHgv"
      },
      "source": [
        "model = model.named_steps['clf']\n",
        "\n",
        "nb_data = {}\n",
        "\n",
        "for index, category in enumerate(target_groups):\n",
        "\n",
        "  coefs = model.coef_[index].flatten().tolist()\n",
        "\n",
        "  coef_word = sorted(list(zip(words,coefs)),reverse=True,key=lambda x: x[1])\n",
        "  nb_data[category] = [coef_word[0][0], coef_word[1][0], coef_word[2][0]]\n",
        "\n"
      ],
      "execution_count": null,
      "outputs": []
    },
    {
      "cell_type": "code",
      "metadata": {
        "id": "WtwfzWhgLhF4",
        "colab": {
          "base_uri": "https://localhost:8080/",
          "height": 175
        },
        "outputId": "5cad863e-ea6b-472e-da01-6ba3c06dfb2e"
      },
      "source": [
        "nb_df = pd.DataFrame(nb_data)\n",
        "nb_df"
      ],
      "execution_count": null,
      "outputs": [
        {
          "output_type": "execute_result",
          "data": {
            "text/html": [
              "<div>\n",
              "<style scoped>\n",
              "    .dataframe tbody tr th:only-of-type {\n",
              "        vertical-align: middle;\n",
              "    }\n",
              "\n",
              "    .dataframe tbody tr th {\n",
              "        vertical-align: top;\n",
              "    }\n",
              "\n",
              "    .dataframe thead th {\n",
              "        text-align: right;\n",
              "    }\n",
              "</style>\n",
              "<table border=\"1\" class=\"dataframe\">\n",
              "  <thead>\n",
              "    <tr style=\"text-align: right;\">\n",
              "      <th></th>\n",
              "      <th>alt.atheism</th>\n",
              "      <th>comp.graphics</th>\n",
              "      <th>comp.os.ms-windows.misc</th>\n",
              "      <th>comp.sys.ibm.pc.hardware</th>\n",
              "      <th>comp.sys.mac.hardware</th>\n",
              "      <th>comp.windows.x</th>\n",
              "      <th>misc.forsale</th>\n",
              "      <th>rec.autos</th>\n",
              "      <th>rec.motorcycles</th>\n",
              "      <th>rec.sport.baseball</th>\n",
              "      <th>rec.sport.hockey</th>\n",
              "      <th>sci.crypt</th>\n",
              "      <th>sci.electronics</th>\n",
              "      <th>sci.med</th>\n",
              "      <th>sci.space</th>\n",
              "      <th>soc.religion.christian</th>\n",
              "      <th>talk.politics.guns</th>\n",
              "      <th>talk.politics.mideast</th>\n",
              "      <th>talk.politics.misc</th>\n",
              "      <th>talk.religion.misc</th>\n",
              "    </tr>\n",
              "  </thead>\n",
              "  <tbody>\n",
              "    <tr>\n",
              "      <th>0</th>\n",
              "      <td>god</td>\n",
              "      <td>graphics</td>\n",
              "      <td>max</td>\n",
              "      <td>scsi</td>\n",
              "      <td>mac</td>\n",
              "      <td>window</td>\n",
              "      <td>00</td>\n",
              "      <td>car</td>\n",
              "      <td>bike</td>\n",
              "      <td>year</td>\n",
              "      <td>team</td>\n",
              "      <td>key</td>\n",
              "      <td>use</td>\n",
              "      <td>cs</td>\n",
              "      <td>space</td>\n",
              "      <td>god</td>\n",
              "      <td>gun</td>\n",
              "      <td>people</td>\n",
              "      <td>people</td>\n",
              "      <td>god</td>\n",
              "    </tr>\n",
              "    <tr>\n",
              "      <th>1</th>\n",
              "      <td>people</td>\n",
              "      <td>image</td>\n",
              "      <td>windows</td>\n",
              "      <td>drive</td>\n",
              "      <td>apple</td>\n",
              "      <td>file</td>\n",
              "      <td>sale</td>\n",
              "      <td>cars</td>\n",
              "      <td>dod</td>\n",
              "      <td>baseball</td>\n",
              "      <td>ca</td>\n",
              "      <td>encryption</td>\n",
              "      <td>power</td>\n",
              "      <td>pitt</td>\n",
              "      <td>nasa</td>\n",
              "      <td>people</td>\n",
              "      <td>people</td>\n",
              "      <td>israel</td>\n",
              "      <td>think</td>\n",
              "      <td>people</td>\n",
              "    </tr>\n",
              "    <tr>\n",
              "      <th>2</th>\n",
              "      <td>think</td>\n",
              "      <td>file</td>\n",
              "      <td>145</td>\n",
              "      <td>card</td>\n",
              "      <td>drive</td>\n",
              "      <td>use</td>\n",
              "      <td>new</td>\n",
              "      <td>good</td>\n",
              "      <td>ca</td>\n",
              "      <td>team</td>\n",
              "      <td>hockey</td>\n",
              "      <td>clipper</td>\n",
              "      <td>ground</td>\n",
              "      <td>people</td>\n",
              "      <td>gov</td>\n",
              "      <td>jesus</td>\n",
              "      <td>guns</td>\n",
              "      <td>turkish</td>\n",
              "      <td>president</td>\n",
              "      <td>jesus</td>\n",
              "    </tr>\n",
              "  </tbody>\n",
              "</table>\n",
              "</div>"
            ],
            "text/plain": [
              "  alt.atheism comp.graphics  ... talk.politics.misc talk.religion.misc\n",
              "0         god      graphics  ...             people                god\n",
              "1      people         image  ...              think             people\n",
              "2       think          file  ...          president              jesus\n",
              "\n",
              "[3 rows x 20 columns]"
            ]
          },
          "metadata": {
            "tags": []
          },
          "execution_count": 32
        }
      ]
    }
  ]
}